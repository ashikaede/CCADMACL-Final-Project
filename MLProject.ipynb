{
  "nbformat": 4,
  "nbformat_minor": 0,
  "metadata": {
    "colab": {
      "provenance": [],
      "authorship_tag": "ABX9TyMnCwdqWdsd2po/thHoP8hh",
      "include_colab_link": true
    },
    "kernelspec": {
      "name": "python3",
      "display_name": "Python 3"
    },
    "language_info": {
      "name": "python"
    }
  },
  "cells": [
    {
      "cell_type": "markdown",
      "metadata": {
        "id": "view-in-github",
        "colab_type": "text"
      },
      "source": [
        "<a href=\"https://colab.research.google.com/github/ashikaede/CCADMACL-Final-Project/blob/main/MLProject.ipynb\" target=\"_parent\"><img src=\"https://colab.research.google.com/assets/colab-badge.svg\" alt=\"Open In Colab\"/></a>"
      ]
    },
    {
      "cell_type": "code",
      "execution_count": 1,
      "metadata": {
        "id": "CnFnYd6E2kfs"
      },
      "outputs": [],
      "source": [
        "import pandas as pd\n",
        "import matplotlib.pyplot as plt\n",
        "from scipy.cluster.hierarchy import dendrogram, linkage, fcluster\n",
        "from sklearn.preprocessing import StandardScaler"
      ]
    },
    {
      "cell_type": "code",
      "source": [
        "df = pd.read_csv(\"diabetes_binary_5050split_health_indicators_BRFSS2015.csv\")\n",
        "print(df.head())"
      ],
      "metadata": {
        "colab": {
          "base_uri": "https://localhost:8080/"
        },
        "id": "9dxnNOhg2yJZ",
        "outputId": "5e573034-33ad-41d9-ee87-aa818cb8b7ff"
      },
      "execution_count": 2,
      "outputs": [
        {
          "output_type": "stream",
          "name": "stdout",
          "text": [
            "   Diabetes_binary  HighBP  HighChol  CholCheck   BMI  Smoker  Stroke  \\\n",
            "0              0.0     1.0       0.0        1.0  26.0     0.0     0.0   \n",
            "1              0.0     1.0       1.0        1.0  26.0     1.0     1.0   \n",
            "2              0.0     0.0       0.0        1.0  26.0     0.0     0.0   \n",
            "3              0.0     1.0       1.0        1.0  28.0     1.0     0.0   \n",
            "4              0.0     0.0       0.0        1.0  29.0     1.0     0.0   \n",
            "\n",
            "   HeartDiseaseorAttack  PhysActivity  Fruits  ...  AnyHealthcare  \\\n",
            "0                   0.0           1.0     0.0  ...            1.0   \n",
            "1                   0.0           0.0     1.0  ...            1.0   \n",
            "2                   0.0           1.0     1.0  ...            1.0   \n",
            "3                   0.0           1.0     1.0  ...            1.0   \n",
            "4                   0.0           1.0     1.0  ...            1.0   \n",
            "\n",
            "   NoDocbcCost  GenHlth  MentHlth  PhysHlth  DiffWalk  Sex   Age  Education  \\\n",
            "0          0.0      3.0       5.0      30.0       0.0  1.0   4.0        6.0   \n",
            "1          0.0      3.0       0.0       0.0       0.0  1.0  12.0        6.0   \n",
            "2          0.0      1.0       0.0      10.0       0.0  1.0  13.0        6.0   \n",
            "3          0.0      3.0       0.0       3.0       0.0  1.0  11.0        6.0   \n",
            "4          0.0      2.0       0.0       0.0       0.0  0.0   8.0        5.0   \n",
            "\n",
            "   Income  \n",
            "0     8.0  \n",
            "1     8.0  \n",
            "2     8.0  \n",
            "3     8.0  \n",
            "4     8.0  \n",
            "\n",
            "[5 rows x 22 columns]\n"
          ]
        }
      ]
    },
    {
      "cell_type": "code",
      "source": [
        "behavioral_features = ['HighBP', 'HighChol', 'CholCheck', 'Smoker',\n",
        "                         'PhysActivity', 'Fruits', 'Veggies', 'HvyAlcoholConsump']\n"
      ],
      "metadata": {
        "id": "BEgqbGY92ymh"
      },
      "execution_count": 3,
      "outputs": []
    },
    {
      "cell_type": "code",
      "source": [
        "# Check if these columns exist in your dataset\n",
        "print(\"Available columns:\", df.columns.tolist())\n",
        "print(\"Selected features:\", behavioral_features)"
      ],
      "metadata": {
        "colab": {
          "base_uri": "https://localhost:8080/"
        },
        "id": "9b0MHAwqd1re",
        "outputId": "9582e321-be71-4e85-b90a-4a1cb02361dc"
      },
      "execution_count": 4,
      "outputs": [
        {
          "output_type": "stream",
          "name": "stdout",
          "text": [
            "Available columns: ['Diabetes_binary', 'HighBP', 'HighChol', 'CholCheck', 'BMI', 'Smoker', 'Stroke', 'HeartDiseaseorAttack', 'PhysActivity', 'Fruits', 'Veggies', 'HvyAlcoholConsump', 'AnyHealthcare', 'NoDocbcCost', 'GenHlth', 'MentHlth', 'PhysHlth', 'DiffWalk', 'Sex', 'Age', 'Education', 'Income']\n",
            "Selected features: ['HighBP', 'HighChol', 'CholCheck', 'Smoker', 'PhysActivity', 'Fruits', 'Veggies', 'HvyAlcoholConsump']\n"
          ]
        }
      ]
    },
    {
      "cell_type": "code",
      "source": [
        "df_behavior = df[behavioral_features].dropna()"
      ],
      "metadata": {
        "id": "SHQM37cK20el"
      },
      "execution_count": 5,
      "outputs": []
    },
    {
      "cell_type": "code",
      "source": [
        "scaler = StandardScaler()\n",
        "X_scaled = scaler.fit_transform(df_behavior)"
      ],
      "metadata": {
        "id": "_eQv4B88d725"
      },
      "execution_count": 6,
      "outputs": []
    },
    {
      "cell_type": "code",
      "source": [
        "# Perform hierarchical clustering using Ward's method (which uses Euclidean distance)\n",
        "Z = linkage(X_scaled, method='ward')"
      ],
      "metadata": {
        "id": "miVRyuJ8211-"
      },
      "execution_count": null,
      "outputs": []
    },
    {
      "cell_type": "code",
      "source": [
        "# Plot the dendrogram to visualize the clustering\n",
        "plt.figure(figsize=(12, 8))\n",
        "dendrogram(Z, truncate_mode='lastp', p=30, leaf_rotation=90., leaf_font_size=10.)\n",
        "plt.title('Hierarchical Clustering Dendrogram')\n",
        "plt.xlabel('Sample index or (cluster size)')\n",
        "plt.ylabel('Distance')\n",
        "plt.show()\n"
      ],
      "metadata": {
        "id": "kXcyQqUj2492"
      },
      "execution_count": null,
      "outputs": []
    },
    {
      "cell_type": "code",
      "source": [
        "max_d = 10  # adjust this value based on the dendrogram inspection\n",
        "clusters = fcluster(Z, max_d, criterion='distance')\n",
        "df_behavior['Cluster'] = clusters"
      ],
      "metadata": {
        "id": "_ZSdbL2F27Qs"
      },
      "execution_count": null,
      "outputs": []
    },
    {
      "cell_type": "code",
      "source": [
        "print(\"Cluster counts:\\n\", df_behavior['Cluster'].value_counts())\n",
        "print(\"Cluster centroids:\\n\", df_behavior.groupby('Cluster').mean())"
      ],
      "metadata": {
        "id": "ZJyOsdgD28lD"
      },
      "execution_count": null,
      "outputs": []
    }
  ]
}